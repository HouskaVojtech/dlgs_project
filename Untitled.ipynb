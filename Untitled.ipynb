{
 "cells": [
  {
   "cell_type": "code",
   "execution_count": 1,
   "id": "3563a448",
   "metadata": {},
   "outputs": [
    {
     "name": "stderr",
     "output_type": "stream",
     "text": [
      "[2023-11-12 17:17:15,176] Making new env: CartPole-v1\n",
      "/home/volta/Documents/ucph/dlgs/venv/lib/python3.10/site-packages/gym/envs/registration.py:17: PkgResourcesDeprecationWarning: Parameters to load are deprecated.  Call .resolve and .require separately.\n",
      "  result = entry_point.load(False)\n"
     ]
    }
   ],
   "source": [
    "import gym\n",
    "import numpy as np\n",
    "\n",
    "env = gym.make(\"CartPole-v1\")\n",
    "state_space_dim = env.observation_space.shape[0]\n",
    "action_space_dim = env.action_space.n"
   ]
  },
  {
   "cell_type": "code",
   "execution_count": 13,
   "id": "22d10aa1",
   "metadata": {},
   "outputs": [],
   "source": [
    "# initialize population size first otput size second third is a input size * bias\n",
    "\n",
    "inpt = np.random.rand(10001)\n",
    "inpt[-1] = 1\n",
    "\n",
    "res = population @ inpt\n",
    "\n",
    "ratio = 0.3\n",
    "\n",
    "def forward(inpt, population):\n",
    "    return population @ inpt\n",
    "    "
   ]
  },
  {
   "cell_type": "code",
   "execution_count": null,
   "id": "ffd7e434",
   "metadata": {},
   "outputs": [],
   "source": []
  },
  {
   "cell_type": "code",
   "execution_count": 28,
   "id": "6602d286",
   "metadata": {},
   "outputs": [],
   "source": [
    "def get_indeces(reservoir_size, ratio):\n",
    "    # mutation ratio is N\n",
    "    idcs = np.arange(reservoir_size)\n",
    "    np.random.shuffle(idcs)\n",
    "    return idcs[reservoir_size // ratio:]"
   ]
  },
  {
   "cell_type": "code",
   "execution_count": 24,
   "id": "fb6cf2f7",
   "metadata": {},
   "outputs": [],
   "source": [
    "reservoir_size = 10001\n",
    "mutation_ratio = 3\n",
    "\n",
    "\n",
    "def mutate(individual, mutation_ratio):\n",
    "    \n",
    "    ind = individual.copy()\n",
    "    \n",
    "    l_1 = len(ind[0])\n",
    "    l_2 = len(ind[1])\n",
    "    \n",
    "    idcs_1 = get_indeces(l_1, mutation_ratio)\n",
    "    idcs_2 = get_indeces(l_2, mutation_ratio)\n",
    "    \n",
    "    noise_1 = np.random.normal(0, 0.1, size=l_1)\n",
    "    noise_2 = np.random.normal(0, 0.1, size=l_2)\n",
    "    \n",
    "    ind[0][idcs] += noise_1\n",
    "    ind[1][idcs] += noise_2\n",
    "    \n",
    "    return ind\n"
   ]
  },
  {
   "cell_type": "code",
   "execution_count": 25,
   "id": "29bf591d",
   "metadata": {},
   "outputs": [],
   "source": [
    "mutants = []\n",
    "for ind in population:\n",
    "    mutants.append(mutate(ind, mutation_ratio))"
   ]
  },
  {
   "cell_type": "code",
   "execution_count": null,
   "id": "8a50c3e6",
   "metadata": {},
   "outputs": [],
   "source": []
  },
  {
   "cell_type": "code",
   "execution_count": null,
   "id": "61c73c14",
   "metadata": {},
   "outputs": [],
   "source": [
    "def crossover(population, ratio):\n",
    "    population"
   ]
  },
  {
   "cell_type": "code",
   "execution_count": null,
   "id": "b6b43a89",
   "metadata": {},
   "outputs": [],
   "source": [
    "input_size = \n",
    "reservoir_size = 10000\n",
    "connectivity = 0.3"
   ]
  },
  {
   "cell_type": "code",
   "execution_count": null,
   "id": "79f46a97",
   "metadata": {},
   "outputs": [],
   "source": [
    "# Generate random reservoir weights\n",
    "W_in = np.random.rand(reservoir_size, input_size) - 0.5\n",
    "W_res = np.random.rand(reservoir_size, reservoir_size) - 0.5\n",
    "\n",
    "# Scale the reservoir weights to control connectivity\n",
    "mask = (np.random.rand(reservoir_size, reservoir_size) < connectivity).astype(float)\n",
    "W_res = W_res * mask\n",
    "\n",
    "# Normalize the reservoir weights by its spectral radius\n",
    "rho_W_res = max(np.abs(np.linalg.eigvals(W_res)))\n",
    "W_res = W_res * (spectral_radius / rho_W_res)\n",
    "\n",
    "# Initialize reservoir states\n",
    "reservoir_states = np.zeros((reservoir_size, 1))\n",
    "\n",
    "# Output weights (to be trained)\n",
    "W_out = np.random.rand(output_size, reservoir_size) - 0.5"
   ]
  },
  {
   "cell_type": "code",
   "execution_count": null,
   "id": "50900e18",
   "metadata": {},
   "outputs": [],
   "source": [
    "import numpy as np\n",
    "\n",
    "class EchoStateNetwork:\n",
    "    def __init__(self, input_size, reservoir_size, output_size, spectral_radius=0.9, connectivity=0.3):\n",
    "        self.input_size = input_size\n",
    "        self.reservoir_size = reservoir_size\n",
    "        self.output_size = output_size\n",
    "        self.spectral_radius = spectral_radius\n",
    "        self.connectivity = connectivity\n",
    "\n",
    "        # Generate random reservoir weights\n",
    "        self.W_in = np.random.rand(reservoir_size, input_size) - 0.5\n",
    "        self.W_res = np.random.rand(reservoir_size, reservoir_size) - 0.5\n",
    "\n",
    "        # Scale the reservoir weights to control connectivity\n",
    "        mask = (np.random.rand(reservoir_size, reservoir_size) < connectivity).astype(float)\n",
    "        self.W_res = self.W_res * mask\n",
    "\n",
    "        # Normalize the reservoir weights by its spectral radius\n",
    "        rho_W_res = max(np.abs(np.linalg.eigvals(self.W_res)))\n",
    "        self.W_res = self.W_res * (spectral_radius / rho_W_res)\n",
    "\n",
    "        # Initialize reservoir states\n",
    "        self.reservoir_states = np.zeros((reservoir_size, 1))\n",
    "\n",
    "        # Output weights (to be trained)\n",
    "        self.W_out = np.random.rand(output_size, reservoir_size) - 0.5\n",
    "\n",
    "    def train(self, inputs, targets, washout=100, reg=1e-5):\n",
    "        # Discard the initial transient states\n",
    "        for i in range(washout):\n",
    "            self.update(inputs[:, i])\n",
    "\n",
    "        # Collect reservoir states for training\n",
    "        X = np.zeros((self.reservoir_size, inputs.shape[1] - washout))\n",
    "        for i in range(inputs.shape[1] - washout):\n",
    "            self.update(inputs[:, i + washout])\n",
    "            X[:, i] = self.reservoir_states.flatten()\n",
    "\n",
    "        # Ridge regression to compute output weights\n",
    "        X_T = np.transpose(X)\n",
    "        self.W_out = np.linalg.inv(X.dot(X_T) + reg * np.eye(self.reservoir_size)).dot(X).dot(targets[:, washout:].T)\n",
    "\n",
    "    def update(self, input_data):\n",
    "        # Update the reservoir states\n",
    "        u = self.W_in.dot(input_data.reshape((-1, 1)))\n",
    "        self.reservoir_states = np.tanh(u + self.W_res.dot(self.reservoir_states))\n",
    "\n",
    "    def predict(self, inputs):\n",
    "        outputs = np.zeros((self.output_size, inputs.shape[1]))\n",
    "\n",
    "        for i in range(inputs.shape[1]):\n",
    "            self.update(inputs[:, i])\n",
    "            outputs[:, i] = self.W_out.dot(self.reservoir_states).flatten()\n",
    "\n",
    "        return outputs\n",
    "\n",
    "# Example usage:\n",
    "np.random.seed(42)\n",
    "\n",
    "# Create an Echo State Network\n",
    "input_size = 1\n",
    "reservoir_size = 100\n",
    "output_size = 1\n",
    "esn = EchoStateNetwork(input_size, reservoir_size, output_size)\n",
    "\n",
    "# Generate some example data\n",
    "num_samples = 500\n",
    "time = np.arange(0, num_samples)\n",
    "input_data = np.sin(0.02 * time) + 0.1 * np.random.randn(num_samples)\n",
    "target_data = np.sin(0.02 * time + np.pi/2)\n",
    "\n",
    "# Train the ESN\n",
    "esn.train(input_data.reshape(1, -1), target_data.reshape(1, -1))\n",
    "\n",
    "# Test the ESN\n",
    "test_input = np.sin(0.02 * time + np.pi) + 0.1 * np.random.randn(num_samples)\n",
    "predicted_output = esn.predict(test_input.reshape(1, -1))\n",
    "\n",
    "# Plot the results\n",
    "import matplotlib.pyplot as plt\n",
    "\n",
    "plt.figure(figsize=(12, 6))\n",
    "plt.plot(time, target_data, label='Target')\n",
    "plt.plot(time, predicted_output.flatten(), label='Predicted')\n",
    "plt.legend()\n",
    "plt.title('Echo State Network Prediction')\n",
    "plt.xlabel('Time')\n",
    "plt.ylabel('Amplitude')\n",
    "plt.show()\n"
   ]
  },
  {
   "cell_type": "code",
   "execution_count": 1,
   "id": "0084964b",
   "metadata": {},
   "outputs": [],
   "source": [
    "import numpy as np\n",
    "import gym\n",
    "\n",
    "import time\n",
    "\n",
    "np.set_printoptions(precision=0)"
   ]
  },
  {
   "cell_type": "code",
   "execution_count": 2,
   "id": "e3494fb9",
   "metadata": {},
   "outputs": [
    {
     "name": "stderr",
     "output_type": "stream",
     "text": [
      "/home/volta/Documents/ucph/dlgs/venv/lib/python3.10/site-packages/gym/envs/registration.py:555: UserWarning: \u001b[33mWARN: The environment CartPole-v0 is out of date. You should consider upgrading to version `v1`.\u001b[0m\n",
      "  logger.warn(\n"
     ]
    }
   ],
   "source": [
    "env = gym.make('CartPole-v0')"
   ]
  },
  {
   "cell_type": "code",
   "execution_count": 7,
   "id": "b7c319bd",
   "metadata": {},
   "outputs": [
    {
     "name": "stdout",
     "output_type": "stream",
     "text": [
      "Episode finished after 14 timesteps\n",
      "Episode finished after 31 timesteps\n",
      "Episode finished after 16 timesteps\n",
      "Episode finished after 18 timesteps\n",
      "Episode finished after 14 timesteps\n",
      "Episode finished after 17 timesteps\n",
      "Episode finished after 24 timesteps\n",
      "Episode finished after 15 timesteps\n",
      "Episode finished after 12 timesteps\n",
      "Episode finished after 17 timesteps\n"
     ]
    }
   ],
   "source": [
    "for i_episode in range(10):\n",
    "    observation = env.reset()\n",
    "    \n",
    "    for t in range(1000):\n",
    "#         env.render()\n",
    "        #print(observation)\n",
    "        action = env.action_space.sample()\n",
    "        observation, reward, terminated, truncated, info = env.step(action)\n",
    "#         print((action, reward))\n",
    "        if terminated:\n",
    "            print(\"Episode finished after {} timesteps\".format(t+1))\n",
    "            break"
   ]
  },
  {
   "cell_type": "code",
   "execution_count": 8,
   "id": "84220234",
   "metadata": {},
   "outputs": [],
   "source": [
    "import genetic"
   ]
  },
  {
   "cell_type": "code",
   "execution_count": 9,
   "id": "af261fea",
   "metadata": {},
   "outputs": [],
   "source": [
    "agent = genetic.Agent(.5, verbose=False)"
   ]
  },
  {
   "cell_type": "code",
   "execution_count": 13,
   "id": "a50df0e3",
   "metadata": {},
   "outputs": [
    {
     "name": "stdout",
     "output_type": "stream",
     "text": [
      "(array([ 0., -0.,  0.,  0.], dtype=float32), {})\n",
      "[ 0. -0.  0.  0.]\n"
     ]
    },
    {
     "ename": "ValueError",
     "evalue": "operands could not be broadcast together with shapes (2,4) (2,) (2,4) ",
     "output_type": "error",
     "traceback": [
      "\u001b[0;31m---------------------------------------------------------------------------\u001b[0m",
      "\u001b[0;31mValueError\u001b[0m                                Traceback (most recent call last)",
      "\u001b[0;32m/tmp/ipykernel_51018/3035270443.py\u001b[0m in \u001b[0;36m<cell line: 1>\u001b[0;34m()\u001b[0m\n\u001b[1;32m      5\u001b[0m \u001b[0;31m#         env.render()\u001b[0m\u001b[0;34m\u001b[0m\u001b[0;34m\u001b[0m\u001b[0m\n\u001b[1;32m      6\u001b[0m         \u001b[0mprint\u001b[0m\u001b[0;34m(\u001b[0m\u001b[0mobservation\u001b[0m\u001b[0;34m)\u001b[0m\u001b[0;34m\u001b[0m\u001b[0;34m\u001b[0m\u001b[0m\n\u001b[0;32m----> 7\u001b[0;31m         \u001b[0maction\u001b[0m \u001b[0;34m=\u001b[0m \u001b[0magent\u001b[0m\u001b[0;34m.\u001b[0m\u001b[0maction\u001b[0m\u001b[0;34m(\u001b[0m\u001b[0mobservation\u001b[0m\u001b[0;34m[\u001b[0m\u001b[0;36m0\u001b[0m\u001b[0;34m]\u001b[0m\u001b[0;34m)\u001b[0m\u001b[0;34m\u001b[0m\u001b[0;34m\u001b[0m\u001b[0m\n\u001b[0m\u001b[1;32m      8\u001b[0m         \u001b[0mobservation\u001b[0m\u001b[0;34m,\u001b[0m \u001b[0mreward\u001b[0m\u001b[0;34m,\u001b[0m \u001b[0mterminated\u001b[0m\u001b[0;34m,\u001b[0m \u001b[0mtruncated\u001b[0m\u001b[0;34m,\u001b[0m \u001b[0minfo\u001b[0m \u001b[0;34m=\u001b[0m \u001b[0menv\u001b[0m\u001b[0;34m.\u001b[0m\u001b[0mstep\u001b[0m\u001b[0;34m(\u001b[0m\u001b[0maction\u001b[0m\u001b[0;34m)\u001b[0m\u001b[0;34m\u001b[0m\u001b[0;34m\u001b[0m\u001b[0m\n\u001b[1;32m      9\u001b[0m \u001b[0;31m#         print((action, reward))\u001b[0m\u001b[0;34m\u001b[0m\u001b[0;34m\u001b[0m\u001b[0m\n",
      "\u001b[0;32m~/Documents/ucph/dlgs/project/genetic.py\u001b[0m in \u001b[0;36maction\u001b[0;34m(self, observation)\u001b[0m\n\u001b[1;32m     80\u001b[0m         \u001b[0mself\u001b[0m\u001b[0;34m.\u001b[0m\u001b[0mprint\u001b[0m\u001b[0;34m(\u001b[0m\u001b[0mresult\u001b[0m\u001b[0;34m)\u001b[0m\u001b[0;34m\u001b[0m\u001b[0;34m\u001b[0m\u001b[0m\n\u001b[1;32m     81\u001b[0m \u001b[0;34m\u001b[0m\u001b[0m\n\u001b[0;32m---> 82\u001b[0;31m         \u001b[0mresult\u001b[0m \u001b[0;34m+=\u001b[0m \u001b[0mself\u001b[0m\u001b[0;34m.\u001b[0m\u001b[0mbias2\u001b[0m\u001b[0;34m\u001b[0m\u001b[0;34m\u001b[0m\u001b[0m\n\u001b[0m\u001b[1;32m     83\u001b[0m         \u001b[0mself\u001b[0m\u001b[0;34m.\u001b[0m\u001b[0mprint\u001b[0m\u001b[0;34m(\u001b[0m\u001b[0mresult\u001b[0m\u001b[0;34m)\u001b[0m\u001b[0;34m\u001b[0m\u001b[0;34m\u001b[0m\u001b[0m\n\u001b[1;32m     84\u001b[0m \u001b[0;34m\u001b[0m\u001b[0m\n",
      "\u001b[0;31mValueError\u001b[0m: operands could not be broadcast together with shapes (2,4) (2,) (2,4) "
     ]
    }
   ],
   "source": [
    "for i_episode in range(10):\n",
    "    observation = env.reset()\n",
    "    \n",
    "    for t in range(1000):\n",
    "#         env.render()\n",
    "        print(observation)\n",
    "        action = agent.action(observation[0])\n",
    "        observation, reward, terminated, truncated, info = env.step(action)\n",
    "#         print((action, reward))\n",
    "        if terminated:\n",
    "            print(\"Episode finished after {} timesteps\".format(t+1))\n",
    "            break"
   ]
  },
  {
   "cell_type": "code",
   "execution_count": null,
   "id": "831c0b98",
   "metadata": {},
   "outputs": [],
   "source": []
  }
 ],
 "metadata": {
  "kernelspec": {
   "display_name": "dlgs",
   "language": "python",
   "name": "dlgs"
  },
  "language_info": {
   "codemirror_mode": {
    "name": "ipython",
    "version": 3
   },
   "file_extension": ".py",
   "mimetype": "text/x-python",
   "name": "python",
   "nbconvert_exporter": "python",
   "pygments_lexer": "ipython3",
   "version": "3.10.12"
  }
 },
 "nbformat": 4,
 "nbformat_minor": 5
}
