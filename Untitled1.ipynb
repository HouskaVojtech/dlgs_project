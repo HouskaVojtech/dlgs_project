{
 "cells": [
  {
   "cell_type": "code",
   "execution_count": 7,
   "id": "0daab0af",
   "metadata": {},
   "outputs": [],
   "source": [
    "import numpy as np\n",
    "import scipy.io\n",
    "from scipy import sparse"
   ]
  },
  {
   "cell_type": "code",
   "execution_count": 270,
   "id": "2035fe16",
   "metadata": {},
   "outputs": [],
   "source": [
    "reservoir_size = 1000\n",
    "input_size = 4\n",
    "out_size = 2\n",
    "std = 0.5\n",
    "\n",
    "population_size = 200"
   ]
  },
  {
   "cell_type": "code",
   "execution_count": 271,
   "id": "899860f9",
   "metadata": {},
   "outputs": [],
   "source": [
    "in_all = np.random.normal(0,std,[population_size,reservoir_size, input_size + 1])\n",
    "w_in = in_all[:,:,:-1]\n",
    "b_in = in_all[:,:,-1] \n",
    "\n",
    "res_all = np.random.normal(0,std,[population_size,reservoir_size, reservoir_size + 1])\n",
    "w_res = res_all[:,:,:-1]\n",
    "b_res = res_all[:,:,-1] "
   ]
  },
  {
   "cell_type": "code",
   "execution_count": 272,
   "id": "d6ed4b96",
   "metadata": {},
   "outputs": [],
   "source": [
    "def res_out_single(inpt, w_in,b_in, w_res, b_res):\n",
    "    return (np.tanh(w_res @ np.tanh(w_in @ inpt + b_in) + b_res))"
   ]
  },
  {
   "cell_type": "code",
   "execution_count": 273,
   "id": "b46d1077",
   "metadata": {},
   "outputs": [],
   "source": [
    "def res_out_multi(inpt, w_in,b_in, w_res,b_res):\n",
    "    #return (np.tanh(w_res @ np.tanh(w_in @ inpt + b_in).T + b_res.T))\n",
    "    return np.tanh(w_res @ np.tanh(w_in @ inpt + b_in).reshape(-1,1000,1) + b_res.reshape(-1,1000,1))"
   ]
  },
  {
   "cell_type": "code",
   "execution_count": 274,
   "id": "4fc686d2",
   "metadata": {},
   "outputs": [],
   "source": [
    "inpt = np.random.normal(0,std,[4])"
   ]
  },
  {
   "cell_type": "code",
   "execution_count": 275,
   "id": "1529081a",
   "metadata": {},
   "outputs": [],
   "source": [
    "res = res_out_multi(inpt, w_in, b_in, w_res, b_res)"
   ]
  },
  {
   "cell_type": "code",
   "execution_count": null,
   "id": "0f3c2773",
   "metadata": {},
   "outputs": [],
   "source": [
    "readouts = np.random.normal(0,std,[population_size, reservoir_size, out_size + 1])"
   ]
  }
 ],
 "metadata": {
  "kernelspec": {
   "display_name": "dlgs",
   "language": "python",
   "name": "dlgs"
  },
  "language_info": {
   "codemirror_mode": {
    "name": "ipython",
    "version": 3
   },
   "file_extension": ".py",
   "mimetype": "text/x-python",
   "name": "python",
   "nbconvert_exporter": "python",
   "pygments_lexer": "ipython3",
   "version": "3.10.12"
  }
 },
 "nbformat": 4,
 "nbformat_minor": 5
}
