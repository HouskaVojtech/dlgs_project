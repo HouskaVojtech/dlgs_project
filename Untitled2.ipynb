{
 "cells": [
  {
   "cell_type": "code",
   "execution_count": 1,
   "id": "930ac634",
   "metadata": {},
   "outputs": [],
   "source": [
    "import numpy as np\n",
    "from numpy import linalg as LA"
   ]
  },
  {
   "cell_type": "code",
   "execution_count": 2,
   "id": "b8b8dbac",
   "metadata": {},
   "outputs": [],
   "source": [
    "class Reservoir():\n",
    "    def __init__(self, in_size, hid_size, leaking_rate):\n",
    "        self.in_size = in_size\n",
    "        self.hid_size = hid_size\n",
    "        self.leaking_rate = leaking_rate\n",
    "        \n",
    "        # TODO: maybe add the bias instead of concatenation \n",
    "        self.in_weights = np.random.normal(0, 1, [hid_size, in_size+1])\n",
    "        self.hid_weights = np.random.normal(0, 1, [hid_size, hid_size])\n",
    "        self.prev_state = np.random.normal(0,1,[hid_size])\n",
    "        \n",
    "    def forward(self, inpt):\n",
    "        update = np.tanh(self.in_weights @ np.append(inpt,1) + self.hid_weights @ self.prev_state)\n",
    "        \n",
    "        self.prev_state = (1 - self.leaking_rate) * self.prev_state + leaking_rate * update\n",
    "        \n",
    "        return self.prev_state\n",
    "        \n",
    "    \n",
    "    def _init_weights(self, desired_spectral_radius):\n",
    "        # TODO: make the spectral radius == 1\n",
    "        \n",
    "        self.in_weights = np.random.normal(0, 1, [hid_size, in_size+1])\n",
    "        \n",
    "        self.hid_weights = np.random.normal(0, 1, [hid_size, hid_size])\n",
    "        hid_spectral_radius = np.abs(LA.eigvals(self.hid_weights)).max()\n",
    "        s_radius_scaling_factor = desired_spectral_radius/hid_spectral_radius\n",
    "        self.hid_weights *= s_radius_scaling_factor\n",
    "        \n",
    "        self.prev_state = np.random.normal(0,1,[hid_size])\n",
    "        \n",
    "    "
   ]
  },
  {
   "cell_type": "code",
   "execution_count": 3,
   "id": "d5545374",
   "metadata": {},
   "outputs": [],
   "source": [
    "population_size = 1000\n",
    "output_size = 2\n",
    "input_size = 4\n",
    "hidden_size = 1000\n",
    "leaking_rate = 0.6\n",
    "\n",
    "N = np.random.normal(0,1,[population_size, output_size, input_size + hidden_size + 1])\n",
    "A = np.random.normal(0,1,[population_size, output_size, input_size + hidden_size + 1])\n",
    "B = np.random.normal(0,1,[population_size, output_size, input_size + hidden_size + 1])\n",
    "C = np.random.normal(0,1,[population_size, output_size, input_size + hidden_size + 1])\n",
    "D = np.random.normal(0,1,[population_size, output_size, input_size + hidden_size + 1])\n",
    "\n",
    "readout_population = np.random.normal(0, 1, [population_size, output_size, input_size + hidden_size + 1])\n",
    "\n",
    "reservoir = Reservoir(input_size, hidden_size, leaking_rate)"
   ]
  },
  {
   "cell_type": "code",
   "execution_count": 4,
   "id": "dce461ca",
   "metadata": {},
   "outputs": [],
   "source": [
    "def forward(weights, inpt, reservoir_activations):\n",
    "    return weights @ np.concatenate([inpt,reservoir_activations,[1]])"
   ]
  },
  {
   "cell_type": "code",
   "execution_count": 5,
   "id": "7b16c1bc",
   "metadata": {},
   "outputs": [],
   "source": [
    "inpt = np.random.normal(0,1,[4])"
   ]
  },
  {
   "cell_type": "code",
   "execution_count": 6,
   "id": "1b12b26e",
   "metadata": {},
   "outputs": [],
   "source": [
    "reservoir_activations = reservoir.forward(inpt)"
   ]
  },
  {
   "cell_type": "code",
   "execution_count": 7,
   "id": "e5b024c6",
   "metadata": {
    "collapsed": true
   },
   "outputs": [
    {
     "data": {
      "text/plain": [
       "array([[-14.1328976 ,  21.18936818],\n",
       "       [-38.72172166,  10.69321723],\n",
       "       [ 25.46677718,  -8.93042243],\n",
       "       ...,\n",
       "       [ 29.53795036,  18.77267628],\n",
       "       [-38.41986711, -18.98741732],\n",
       "       [ 24.68354541, -32.2182355 ]])"
      ]
     },
     "execution_count": 7,
     "metadata": {},
     "output_type": "execute_result"
    }
   ],
   "source": [
    "forward(readout_population, inpt, reservoir_activations)"
   ]
  },
  {
   "cell_type": "markdown",
   "id": "2cced6eb",
   "metadata": {},
   "source": [
    "$\\Delta w_{ij} = \\eta \\cdot \\left( \\mathrm{A}o_i o_j  + \\mathrm{B}o_i + \\mathrm{C}o_j + \\mathrm{D} \\right)$"
   ]
  },
  {
   "cell_type": "code",
   "execution_count": 8,
   "id": "ae8c392a",
   "metadata": {},
   "outputs": [],
   "source": [
    "def update(inpt, output, eta, A, B, C, D):\n",
    "    correlation =  np.multiply(A, np.outer(pre_synaptic, post_synaptic))\n",
    "    pre_synaptic = np.multiply(B,inpt)\n",
    "    post_synaptic = np.multiply(C, output)\n",
    "    return np.multiply(eta, correlation + pre_synaptic + post_synaptic)"
   ]
  },
  {
   "cell_type": "markdown",
   "id": "acb4367e",
   "metadata": {},
   "source": [
    "$\\mathrm{h_{t+1}} = \\mathrm{h_t} + \\frac{\\alpha}{n\\sigma} \\sum_{i=1}^{n}= F\\left(\\mathrm{h_t}+ \\sigma\\epsilon_i\\right) \\cdot \\epsilon_i $"
   ]
  },
  {
   "cell_type": "code",
   "execution_count": 10,
   "id": "363c013e",
   "metadata": {},
   "outputs": [],
   "source": []
  }
 ],
 "metadata": {
  "kernelspec": {
   "display_name": "dlgs_project",
   "language": "python",
   "name": "dlgs_project"
  },
  "language_info": {
   "codemirror_mode": {
    "name": "ipython",
    "version": 3
   },
   "file_extension": ".py",
   "mimetype": "text/x-python",
   "name": "python",
   "nbconvert_exporter": "python",
   "pygments_lexer": "ipython3",
   "version": "3.10.12"
  }
 },
 "nbformat": 4,
 "nbformat_minor": 5
}
