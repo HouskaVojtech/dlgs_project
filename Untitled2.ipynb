{
 "cells": [
  {
   "cell_type": "code",
   "execution_count": 1,
   "id": "930ac634",
   "metadata": {},
   "outputs": [],
   "source": [
    "import numpy as np\n",
    "from numpy import linalg as LA"
   ]
  },
  {
   "cell_type": "code",
   "execution_count": 2,
   "id": "b8b8dbac",
   "metadata": {},
   "outputs": [],
   "source": [
    "class Reservoir():\n",
    "    def __init__(self, in_size, hid_size, leaking_rate):\n",
    "        self.in_size = in_size\n",
    "        self.hid_size = hid_size\n",
    "        self.leaking_rate = leaking_rate\n",
    "        \n",
    "        # TODO: maybe add the bias instead of concatenation \n",
    "        self.in_weights = np.random.normal(0, 1, [hid_size, in_size+1])\n",
    "        self.hid_weights = np.random.normal(0, 1, [hid_size, hid_size])\n",
    "        self.prev_state = np.random.normal(0,1,[hid_size])\n",
    "        \n",
    "    def forward(self, inpt):\n",
    "        update = np.tanh(self.in_weights @ inpt.append(1) + self.hid_weights @ self.prev_state)\n",
    "        \n",
    "        self.prev_state = (1 - self.leaking_rate) * self.prev_state + leaking_rate * update\n",
    "        \n",
    "        return self.prev_state\n",
    "        \n",
    "    \n",
    "    def _init_weights(self, desired_spectral_radius):\n",
    "        # TODO: make the spectral radius == 1\n",
    "        \n",
    "        self.in_weights = np.random.normal(0, 1, [hid_size, in_size+1])\n",
    "        \n",
    "        self.hid_weights = np.random.normal(0, 1, [hid_size, hid_size])\n",
    "        hid_spectral_radius = np.abs(LA.eigvals(self.hid_weights)).max()\n",
    "        s_radius_scaling_factor = desired_spectral_radius/hid_spectral_radius\n",
    "        self.hid_weights *= s_radius_scaling_factor\n",
    "        \n",
    "        self.prev_state = np.random.normal(0,1,[hid_size])\n",
    "        \n",
    "    "
   ]
  },
  {
   "cell_type": "code",
   "execution_count": 4,
   "id": "d5545374",
   "metadata": {},
   "outputs": [],
   "source": [
    "population_size = 1000\n",
    "output_size = 2\n",
    "input_size = 4\n",
    "hidden_size = 1000\n",
    "\n",
    "A = np.random.normal(0,1,[population_size, output_size, input_size + hidden_size + 1])\n",
    "B = np.random.normal(0,1,[population_size, output_size, input_size + hidden_size + 1])\n",
    "C = np.random.normal(0,1,[population_size, output_size, input_size + hidden_size + 1])\n",
    "D = np.random.normal(0,1,[population_size, output_size, input_size + hidden_size + 1])\n",
    "\n",
    "readout_population = np.random.normal(0, 1, [population_size, output_size, input_size + hidden_size + 1])\n",
    "\n",
    "reservoir = Reservoir(input_size, hidden_size, 0.6)"
   ]
  },
  {
   "cell_type": "code",
   "execution_count": null,
   "id": "dce461ca",
   "metadata": {},
   "outputs": [],
   "source": [
    "def forward(weights, inpt, reservoir_activations):\n",
    "    return weights @ np.concatenate(inpt,reservoir_activations,[1])"
   ]
  }
 ],
 "metadata": {
  "kernelspec": {
   "display_name": "dlgs",
   "language": "python",
   "name": "dlgs"
  },
  "language_info": {
   "codemirror_mode": {
    "name": "ipython",
    "version": 3
   },
   "file_extension": ".py",
   "mimetype": "text/x-python",
   "name": "python",
   "nbconvert_exporter": "python",
   "pygments_lexer": "ipython3",
   "version": "3.10.12"
  }
 },
 "nbformat": 4,
 "nbformat_minor": 5
}
